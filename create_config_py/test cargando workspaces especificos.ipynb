{
 "cells": [
  {
   "cell_type": "code",
   "execution_count": 11,
   "metadata": {},
   "outputs": [],
   "source": [
    "geoserver_url=\"http://localhost:8080/geoserver\"\n",
    "geoserver_rest=geoserver_url+\"/rest\"\n",
    "#definir los workspaces a utilizar\n",
    "workspaces_use=[\"servicios_sig1\",\"tamaulipas_prueba\"]"
   ]
  },
  {
   "cell_type": "code",
   "execution_count": 12,
   "metadata": {},
   "outputs": [
    {
     "data": {
      "text/plain": [
       "{'workspaces': {'workspace': [{'name': 'cite',\n",
       "    'href': 'http://localhost:8080/geoserver/rest/workspaces/cite.json'},\n",
       "   {'name': 'tiger',\n",
       "    'href': 'http://localhost:8080/geoserver/rest/workspaces/tiger.json'},\n",
       "   {'name': 'nurc',\n",
       "    'href': 'http://localhost:8080/geoserver/rest/workspaces/nurc.json'},\n",
       "   {'name': 'sde',\n",
       "    'href': 'http://localhost:8080/geoserver/rest/workspaces/sde.json'},\n",
       "   {'name': 'it.geosolutions',\n",
       "    'href': 'http://localhost:8080/geoserver/rest/workspaces/it.geosolutions.json'},\n",
       "   {'name': 'topp',\n",
       "    'href': 'http://localhost:8080/geoserver/rest/workspaces/topp.json'},\n",
       "   {'name': 'sf',\n",
       "    'href': 'http://localhost:8080/geoserver/rest/workspaces/sf.json'},\n",
       "   {'name': 'tamaulipas_prueba',\n",
       "    'href': 'http://localhost:8080/geoserver/rest/workspaces/tamaulipas_prueba.json'},\n",
       "   {'name': 'servicios_sig1',\n",
       "    'href': 'http://localhost:8080/geoserver/rest/workspaces/servicios_sig1.json'}]}}"
      ]
     },
     "execution_count": 12,
     "metadata": {},
     "output_type": "execute_result"
    }
   ],
   "source": [
    "import requests\n",
    "todos_works=requests.get(geoserver_rest+\"/workspaces.json\",auth=(\"admin\",\"geoserver\")).json()\n",
    "todos_works"
   ]
  },
  {
   "cell_type": "code",
   "execution_count": 23,
   "metadata": {},
   "outputs": [
    {
     "data": {
      "text/plain": [
       "[{'workspace': {'name': 'tamaulipas_prueba',\n",
       "   'isolated': False,\n",
       "   'dataStores': 'http://localhost:8080/geoserver/rest/workspaces/tamaulipas_prueba/datastores.json',\n",
       "   'coverageStores': 'http://localhost:8080/geoserver/rest/workspaces/tamaulipas_prueba/coveragestores.json',\n",
       "   'wmsStores': 'http://localhost:8080/geoserver/rest/workspaces/tamaulipas_prueba/wmsstores.json',\n",
       "   'wmtsStores': 'http://localhost:8080/geoserver/rest/workspaces/tamaulipas_prueba/wmtsstores.json'}},\n",
       " {'workspace': {'name': 'servicios_sig1',\n",
       "   'isolated': False,\n",
       "   'dataStores': 'http://localhost:8080/geoserver/rest/workspaces/servicios_sig1/datastores.json',\n",
       "   'coverageStores': 'http://localhost:8080/geoserver/rest/workspaces/servicios_sig1/coveragestores.json',\n",
       "   'wmsStores': 'http://localhost:8080/geoserver/rest/workspaces/servicios_sig1/wmsstores.json',\n",
       "   'wmtsStores': 'http://localhost:8080/geoserver/rest/workspaces/servicios_sig1/wmtsstores.json'}}]"
      ]
     },
     "execution_count": 23,
     "metadata": {},
     "output_type": "execute_result"
    }
   ],
   "source": [
    "disponibles=[ ww[\"name\"] for ww in todos_works[\"workspaces\"][\"workspace\"] ]\n",
    "matches=set(disponibles) & set(workspaces_use)\n",
    "works_to_usar=[]\n",
    "for ww in todos_works[\"workspaces\"][\"workspace\"]:\n",
    "    for unm in matches:\n",
    "        if ww[\"name\"]==unm:\n",
    "            reqds=requests.get(ww[\"href\"],auth=(\"admin\",\"geoserver\"))\n",
    "            works_to_usar.append(reqds.json())\n",
    "            \n",
    "works_to_usar"
   ]
  },
  {
   "cell_type": "code",
   "execution_count": 41,
   "metadata": {},
   "outputs": [],
   "source": [
    "for wok in works_to_usar:\n",
    "    datareqds=requests.get(wok[\"workspace\"][\"dataStores\"],auth=(\"admin\",\"geoserver\") )\n",
    "    datstores=datareqds.json()\n",
    "    wok[\"list_dataStores\"]=[]\n",
    "    for ds in datstores[\"dataStores\"][\"dataStore\"]:\n",
    "        reqds=requests.get(ds[\"href\"],auth=(\"admin\",\"geoserver\"))\n",
    "        datastore1=reqds.json() #obj to list\n",
    "        #print(datastore1[\"dataStore\"][\"featureTypes\"])\n",
    "        hrefs_features_req=requests.get(datastore1[\"dataStore\"][\"featureTypes\"],auth=(\"admin\",\"geoserver\"))\n",
    "        hrefs_features=hrefs_features_req.json()\n",
    "        datastore1[\"list_featureTypes\"]=[]\n",
    "        for featureqq in hrefs_features[\"featureTypes\"][\"featureType\"]:\n",
    "            req_feature1=requests.get(featureqq[\"href\"],auth=(\"admin\",\"geoserver\"))\n",
    "            featureType1=req_feature1.json()\n",
    "            datastore1[\"list_featureTypes\"].append(featureType1)\n",
    "        wok[\"list_dataStores\"].append(datastore1)\n"
   ]
  },
  {
   "cell_type": "code",
   "execution_count": 44,
   "metadata": {},
   "outputs": [
    {
     "name": "stdout",
     "output_type": "stream",
     "text": [
      "municipios\n",
      "asentamientos_humanos\n",
      "nucleos_agrarios\n",
      "tierras_usocomun\n",
      "zona_parcelas\n"
     ]
    }
   ],
   "source": [
    "settings_wms_viz={\n",
    "    \n",
    "}\n",
    "for w1 in works_to_usar:\n",
    "    for d1 in w1[\"list_dataStores\"]:\n",
    "        for f1 in d1[\"list_featureTypes\"]:\n",
    "            elf=f1[\"featureType\"]\n",
    "            print(elf[\"name\"])"
   ]
  },
  {
   "cell_type": "code",
   "execution_count": 48,
   "metadata": {},
   "outputs": [
    {
     "name": "stdout",
     "output_type": "stream",
     "text": [
      "Help on method raw_input in module ipykernel.kernelbase:\n",
      "\n",
      "raw_input(prompt='') method of ipykernel.ipkernel.IPythonKernel instance\n",
      "    Forward raw_input to frontends\n",
      "    \n",
      "    Raises\n",
      "    ------\n",
      "    StdinNotImplentedError if active frontend doesn't support stdin.\n",
      "\n"
     ]
    }
   ],
   "source": [
    "help(input)"
   ]
  },
  {
   "cell_type": "code",
   "execution_count": null,
   "metadata": {},
   "outputs": [],
   "source": []
  }
 ],
 "metadata": {
  "kernelspec": {
   "display_name": "Python 3",
   "language": "python",
   "name": "python3"
  },
  "language_info": {
   "codemirror_mode": {
    "name": "ipython",
    "version": 3
   },
   "file_extension": ".py",
   "mimetype": "text/x-python",
   "name": "python",
   "nbconvert_exporter": "python",
   "pygments_lexer": "ipython3",
   "version": "3.6.8"
  }
 },
 "nbformat": 4,
 "nbformat_minor": 2
}
