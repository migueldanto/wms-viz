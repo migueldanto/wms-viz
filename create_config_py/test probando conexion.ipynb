{
 "cells": [
  {
   "cell_type": "code",
   "execution_count": 1,
   "metadata": {},
   "outputs": [],
   "source": [
    "import requests"
   ]
  },
  {
   "cell_type": "code",
   "execution_count": 2,
   "metadata": {},
   "outputs": [
    {
     "data": {
      "text/plain": [
       "200"
      ]
     },
     "execution_count": 2,
     "metadata": {},
     "output_type": "execute_result"
    }
   ],
   "source": [
    "r=requests.get(\"http://localhost:8080/geoserver/rest/workspaces.json\",auth=(\"admin\",\"geoserver\"))\n",
    "r.status_code"
   ]
  },
  {
   "cell_type": "code",
   "execution_count": 3,
   "metadata": {},
   "outputs": [
    {
     "data": {
      "text/plain": [
       "'{\"workspaces\":{\"workspace\":[{\"name\":\"cite\",\"href\":\"http:\\\\/\\\\/localhost:8080\\\\/geoserver\\\\/rest\\\\/workspaces\\\\/cite.json\"},{\"name\":\"tiger\",\"href\":\"http:\\\\/\\\\/localhost:8080\\\\/geoserver\\\\/rest\\\\/workspaces\\\\/tiger.json\"},{\"name\":\"nurc\",\"href\":\"http:\\\\/\\\\/localhost:8080\\\\/geoserver\\\\/rest\\\\/workspaces\\\\/nurc.json\"},{\"name\":\"sde\",\"href\":\"http:\\\\/\\\\/localhost:8080\\\\/geoserver\\\\/rest\\\\/workspaces\\\\/sde.json\"},{\"name\":\"it.geosolutions\",\"href\":\"http:\\\\/\\\\/localhost:8080\\\\/geoserver\\\\/rest\\\\/workspaces\\\\/it.geosolutions.json\"},{\"name\":\"topp\",\"href\":\"http:\\\\/\\\\/localhost:8080\\\\/geoserver\\\\/rest\\\\/workspaces\\\\/topp.json\"},{\"name\":\"sf\",\"href\":\"http:\\\\/\\\\/localhost:8080\\\\/geoserver\\\\/rest\\\\/workspaces\\\\/sf.json\"},{\"name\":\"tamaulipas_prueba\",\"href\":\"http:\\\\/\\\\/localhost:8080\\\\/geoserver\\\\/rest\\\\/workspaces\\\\/tamaulipas_prueba.json\"},{\"name\":\"servicios_sig1\",\"href\":\"http:\\\\/\\\\/localhost:8080\\\\/geoserver\\\\/rest\\\\/workspaces\\\\/servicios_sig1.json\"}]}}'"
      ]
     },
     "execution_count": 3,
     "metadata": {},
     "output_type": "execute_result"
    }
   ],
   "source": [
    "r.text"
   ]
  },
  {
   "cell_type": "code",
   "execution_count": 4,
   "metadata": {},
   "outputs": [
    {
     "data": {
      "text/plain": [
       "{'X-Frame-Options': 'SAMEORIGIN', 'Content-Type': 'application/json', 'Content-Encoding': 'gzip', 'Transfer-Encoding': 'chunked', 'Server': 'Jetty(9.4.18.v20190429)'}"
      ]
     },
     "execution_count": 4,
     "metadata": {},
     "output_type": "execute_result"
    }
   ],
   "source": [
    "r.headers"
   ]
  },
  {
   "cell_type": "code",
   "execution_count": 5,
   "metadata": {},
   "outputs": [
    {
     "data": {
      "text/plain": [
       "{'workspaces': {'workspace': [{'name': 'cite',\n",
       "    'href': 'http://localhost:8080/geoserver/rest/workspaces/cite.json'},\n",
       "   {'name': 'tiger',\n",
       "    'href': 'http://localhost:8080/geoserver/rest/workspaces/tiger.json'},\n",
       "   {'name': 'nurc',\n",
       "    'href': 'http://localhost:8080/geoserver/rest/workspaces/nurc.json'},\n",
       "   {'name': 'sde',\n",
       "    'href': 'http://localhost:8080/geoserver/rest/workspaces/sde.json'},\n",
       "   {'name': 'it.geosolutions',\n",
       "    'href': 'http://localhost:8080/geoserver/rest/workspaces/it.geosolutions.json'},\n",
       "   {'name': 'topp',\n",
       "    'href': 'http://localhost:8080/geoserver/rest/workspaces/topp.json'},\n",
       "   {'name': 'sf',\n",
       "    'href': 'http://localhost:8080/geoserver/rest/workspaces/sf.json'},\n",
       "   {'name': 'tamaulipas_prueba',\n",
       "    'href': 'http://localhost:8080/geoserver/rest/workspaces/tamaulipas_prueba.json'},\n",
       "   {'name': 'servicios_sig1',\n",
       "    'href': 'http://localhost:8080/geoserver/rest/workspaces/servicios_sig1.json'}]}}"
      ]
     },
     "execution_count": 5,
     "metadata": {},
     "output_type": "execute_result"
    }
   ],
   "source": [
    "workspaces=r.json()\n",
    "workspaces"
   ]
  },
  {
   "cell_type": "code",
   "execution_count": 6,
   "metadata": {},
   "outputs": [
    {
     "data": {
      "text/plain": [
       "[{'name': 'cite',\n",
       "  'href': 'http://localhost:8080/geoserver/rest/workspaces/cite.json'},\n",
       " {'name': 'tiger',\n",
       "  'href': 'http://localhost:8080/geoserver/rest/workspaces/tiger.json'},\n",
       " {'name': 'nurc',\n",
       "  'href': 'http://localhost:8080/geoserver/rest/workspaces/nurc.json'},\n",
       " {'name': 'sde',\n",
       "  'href': 'http://localhost:8080/geoserver/rest/workspaces/sde.json'},\n",
       " {'name': 'it.geosolutions',\n",
       "  'href': 'http://localhost:8080/geoserver/rest/workspaces/it.geosolutions.json'},\n",
       " {'name': 'topp',\n",
       "  'href': 'http://localhost:8080/geoserver/rest/workspaces/topp.json'},\n",
       " {'name': 'sf',\n",
       "  'href': 'http://localhost:8080/geoserver/rest/workspaces/sf.json'},\n",
       " {'name': 'tamaulipas_prueba',\n",
       "  'href': 'http://localhost:8080/geoserver/rest/workspaces/tamaulipas_prueba.json'},\n",
       " {'name': 'servicios_sig1',\n",
       "  'href': 'http://localhost:8080/geoserver/rest/workspaces/servicios_sig1.json'}]"
      ]
     },
     "execution_count": 6,
     "metadata": {},
     "output_type": "execute_result"
    }
   ],
   "source": [
    "workspaces[\"workspaces\"][\"workspace\"]"
   ]
  },
  {
   "cell_type": "code",
   "execution_count": null,
   "metadata": {},
   "outputs": [],
   "source": []
  }
 ],
 "metadata": {
  "kernelspec": {
   "display_name": "Python 3",
   "language": "python",
   "name": "python3"
  },
  "language_info": {
   "codemirror_mode": {
    "name": "ipython",
    "version": 3
   },
   "file_extension": ".py",
   "mimetype": "text/x-python",
   "name": "python",
   "nbconvert_exporter": "python",
   "pygments_lexer": "ipython3",
   "version": "3.6.8"
  }
 },
 "nbformat": 4,
 "nbformat_minor": 2
}
