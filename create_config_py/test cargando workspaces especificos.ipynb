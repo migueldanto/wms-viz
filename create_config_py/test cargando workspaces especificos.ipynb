{
 "cells": [
  {
   "cell_type": "code",
   "execution_count": null,
   "metadata": {},
   "outputs": [],
   "source": [
    "geoserver_url=\"http://localhost:8080/geoserver\"\n",
    "geoserver_rest=geoserver_url+\"/rest\"\n",
    "#definir los workspaces a utilizar\n",
    "workspaces_use0=[(\"servicios_sig1\",\"Registro Agrario Nacional\"),(\"tiger\",\"prueba tiger\")]\n",
    "workspaces_use= [w[0] for w in  workspaces_use0]\n",
    "workspaces_use"
   ]
  },
  {
   "cell_type": "code",
   "execution_count": null,
   "metadata": {},
   "outputs": [],
   "source": [
    "import requests\n",
    "todos_works=requests.get(geoserver_rest+\"/workspaces.json\",auth=(\"admin\",\"geoserver\")).json()\n",
    "todos_works"
   ]
  },
  {
   "cell_type": "code",
   "execution_count": null,
   "metadata": {},
   "outputs": [],
   "source": [
    "disponibles=[ ww[\"name\"] for ww in todos_works[\"workspaces\"][\"workspace\"] ]\n",
    "matches=set(disponibles) & set(workspaces_use)\n",
    "works_to_usar=[]\n",
    "for ww in todos_works[\"workspaces\"][\"workspace\"]:\n",
    "    for unm in matches:\n",
    "        if ww[\"name\"]==unm:\n",
    "            reqds=requests.get(ww[\"href\"],auth=(\"admin\",\"geoserver\"))\n",
    "            works_to_usar.append(reqds.json())\n",
    "            \n",
    "works_to_usar"
   ]
  },
  {
   "cell_type": "code",
   "execution_count": null,
   "metadata": {},
   "outputs": [],
   "source": [
    "for wok in works_to_usar:\n",
    "    datareqds=requests.get(wok[\"workspace\"][\"dataStores\"],auth=(\"admin\",\"geoserver\") )\n",
    "    datstores=datareqds.json()\n",
    "    wok[\"list_dataStores\"]=[]\n",
    "    for ds in datstores[\"dataStores\"][\"dataStore\"]:\n",
    "        reqds=requests.get(ds[\"href\"],auth=(\"admin\",\"geoserver\"))\n",
    "        datastore1=reqds.json() #obj to list\n",
    "        #print(datastore1[\"dataStore\"][\"featureTypes\"])\n",
    "        hrefs_features_req=requests.get(datastore1[\"dataStore\"][\"featureTypes\"],auth=(\"admin\",\"geoserver\"))\n",
    "        hrefs_features=hrefs_features_req.json()\n",
    "        datastore1[\"list_featureTypes\"]=[]\n",
    "        for featureqq in hrefs_features[\"featureTypes\"][\"featureType\"]:\n",
    "            req_feature1=requests.get(featureqq[\"href\"],auth=(\"admin\",\"geoserver\"))\n",
    "            featureType1=req_feature1.json()\n",
    "            datastore1[\"list_featureTypes\"].append(featureType1)\n",
    "        wok[\"list_dataStores\"].append(datastore1)\n"
   ]
  },
  {
   "cell_type": "code",
   "execution_count": null,
   "metadata": {},
   "outputs": [],
   "source": [
    "settings_wms_viz={\n",
    "    \"settings\": {\n",
    "        \"zoom\": 10,\n",
    "        \"center\": [\n",
    "            -99.133209,\n",
    "            19.432608\n",
    "        ]\n",
    "    },\n",
    "    \"skeleton\": {\n",
    "        \"base\": [\n",
    "            \"base_osm\"\n",
    "        ],\n",
    "        \"main\":[]\n",
    "    },\n",
    "    \"layers\":[\n",
    "        {\n",
    "            \"type\": \"tile\",\n",
    "            \"name\": \"base_osm\",\n",
    "            \"title\": \"Open Street Map\",\n",
    "            \"visible\": True,\n",
    "            \"settings\": {\n",
    "                \"ol_source_accesor\": \"OSM\"\n",
    "            },\n",
    "            \"plugin_view\": {}\n",
    "        }\n",
    "    ]\n",
    "}\n",
    "for w1 in works_to_usar:\n",
    "    print(w1[\"workspace\"][\"name\"]+\"<<<--\")\n",
    "    layers_grupo=[]\n",
    "    for d1 in w1[\"list_dataStores\"]:\n",
    "        for f1 in d1[\"list_featureTypes\"]:\n",
    "            elf=f1[\"featureType\"]\n",
    "            lay={\n",
    "                \"type\":\"wms\",\n",
    "                \"name\":elf[\"name\"],\n",
    "                \"title\":elf[\"title\"],\n",
    "                \"visible\":False,\n",
    "                \"opacity\":1,\n",
    "                \"settings\":{\n",
    "                    \"request_body\":{\n",
    "                        \"LAYERS\":w1[\"workspace\"][\"name\"]+\":\"+elf[\"name\"],\n",
    "                        \"SRS\":elf[\"srs\"],\n",
    "                        \"TILED\":False,\n",
    "                    },\n",
    "                    \"url\":geoserver_url+\"/wms\",\n",
    "                    \"extent\":[ elf[\"latLonBoundingBox\"][\"minx\"],elf[\"latLonBoundingBox\"][\"miny\"],\n",
    "                              elf[\"latLonBoundingBox\"][\"maxx\"],elf[\"latLonBoundingBox\"][\"maxy\"]\n",
    "                             ],\n",
    "                    \"allow_downloaddata\":True,\n",
    "                    \"options_downloaddata\":{\n",
    "                        \"from_wfs\":True\n",
    "                    }\n",
    "                }\n",
    "            }\n",
    "            settings_wms_viz[\"layers\"].append(lay)\n",
    "            layers_grupo.append(elf[\"name\"])\n",
    "            print(elf[\"name\"])\n",
    "    titulo_real=workspaces_use0[workspaces_use.index( w1[\"workspace\"][\"name\"] )][1]\n",
    "    settings_wms_viz[\"skeleton\"][\"main\"].append(dict(title=titulo_real,layers=layers_grupo))"
   ]
  },
  {
   "cell_type": "code",
   "execution_count": null,
   "metadata": {},
   "outputs": [],
   "source": [
    "import json\n",
    "with open(\"../src/assets/copy_and_ignore.json\",\"w\") as fp:\n",
    "    json.dump(settings_wms_viz,fp)\n",
    "    "
   ]
  },
  {
   "cell_type": "code",
   "execution_count": null,
   "metadata": {},
   "outputs": [],
   "source": [
    "#works_to_usar"
   ]
  }
 ],
 "metadata": {
  "kernelspec": {
   "display_name": "Python 3",
   "language": "python",
   "name": "python3"
  },
  "language_info": {
   "codemirror_mode": {
    "name": "ipython",
    "version": 3
   },
   "file_extension": ".py",
   "mimetype": "text/x-python",
   "name": "python",
   "nbconvert_exporter": "python",
   "pygments_lexer": "ipython3",
   "version": "3.6.8"
  }
 },
 "nbformat": 4,
 "nbformat_minor": 2
}
